{
  "cells": [
    {
      "cell_type": "raw",
      "metadata": {},
      "source": [
        "---\n",
        "title: \"How to connect a new RStudio project to a GitHub repository\"\n",
        "---"
      ],
      "id": "6175c112"
    },
    {
      "cell_type": "markdown",
      "metadata": {},
      "source": [
        "## Create a new RStudio project\n",
        "\n",
        "1.  Create a new RStudio project and check \"Create a git repository\"\n",
        "\n",
        "2.  Open GitHub and create a new repository for this project\n",
        "\n",
        "3.  Navigate to the terminal in RStudio\n",
        "\n",
        "4.  Make sure you are in the correct working directory \"pwd\"\n",
        "\n",
        "5.  Open a terminal\n",
        "\n",
        "6.  Add the remote repository from git hub\n",
        "\n",
        "\n",
        "    ```{git remote add origin https://github.com/Alex-B-7/ytDemo.git}\n",
        "    ```\n",
        "\n",
        "\n",
        "7.  git remote add origin <https://github.com/Alex-B-7/ytDemo.git>"
      ],
      "id": "0bc1aa13"
    }
  ],
  "metadata": {
    "kernelspec": {
      "display_name": "Python 3",
      "language": "python",
      "name": "python3"
    }
  },
  "nbformat": 4,
  "nbformat_minor": 5
}